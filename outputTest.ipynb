{
 "cells": [
  {
   "cell_type": "code",
   "execution_count": 2,
   "id": "d4467178",
   "metadata": {},
   "outputs": [
    {
     "name": "stdout",
     "output_type": "stream",
     "text": [
      "What number do you want to start with? [greater or equal to 1] 3\n",
      "First number is 3\n",
      "second number is 10\n",
      "Sum is = 13\n"
     ]
    },
    {
     "data": {
      "image/png": "[encoded data removed]",
      "text/plain": [
       "<Figure size 432x288 with 1 Axes>"
      ]
     },
     "metadata": {
      "needs_background": "light"
     },
     "output_type": "display_data"
    },
    {
     "name": "stdout",
     "output_type": "stream",
     "text": [
      "enter to exit \n"
     ]
    }
   ],
   "source": [
    "import matplotlib.pyplot as plt\n",
    "import numpy as np\n",
    "\n",
    "def sum():\n",
    "   #first = 5\n",
    "   first = input('What number do you want to start with? [greater or equal to 1] ')\n",
    "   first = int(first)\n",
    "   print('First number is {}'.format(first))\n",
    "   second = 10\n",
    "   result = first + second\n",
    "   print('second number is {}'.format(second))\n",
    "   print('Sum is = {}'.format(result))\n",
    "   \n",
    "   \n",
    "sum()\n",
    "# Prepare the data\n",
    "x = np.linspace(0, 10, 100)\n",
    "# Plot the data\n",
    "plt.plot(x, x, label='linear')\n",
    "# Add a legend\n",
    "plt.legend()\n",
    "# Show the plot\n",
    "plt.show()\n",
    "\n",
    "end=input('enter to exit ')"
   ]
  }
 ],
 "metadata": {
  "kernelspec": {
   "display_name": "Python 3",
   "language": "python",
   "name": "python3"
  },
  "language_info": {
   "codemirror_mode": {
    "name": "ipython",
    "version": 3
   },
   "file_extension": ".py",
   "mimetype": "text/x-python",
   "name": "python",
   "nbconvert_exporter": "python",
   "pygments_lexer": "ipython3",
   "version": "3.8.5"
  }
 },
 "nbformat": 4,
 "nbformat_minor": 5
}
